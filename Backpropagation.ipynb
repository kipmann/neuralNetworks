{
 "cells": [
  {
   "cell_type": "code",
   "execution_count": null,
   "metadata": {},
   "outputs": [],
   "source": [
    "#This is Übung 2 Aufgabe 2 Backpropagation (c)\n",
    "#import Graphviz\n",
    "from graphviz import Digraph"
   ]
  },
  {
   "cell_type": "code",
   "execution_count": null,
   "metadata": {},
   "outputs": [],
   "source": [
    "#Aufgabe 2 c\n",
    "point = Digraph()\n",
    "point.attr(rankdir='LR')\n",
    "print(\"Input: a = 2, b = 3, c = 4\")\n",
    "\n",
    "#define pointers\n",
    "point.node('FOR_OUT' , 'out')\n",
    "point.node('FOR_A', 'a')\n",
    "point.node('FOR_B' , 'b')\n",
    "point.node('FOR_C' , 'c')\n",
    "\n",
    "#define values\n",
    "point.node('A', 'x^2')\n",
    "point.node('B', '+')\n",
    "point.node('C', '7/2x')\n",
    "point.node('D', '*')\n",
    "point.node('F', '2/x')\n",
    "\n",
    "#build the structure\n",
    "point.edge('C', 'D')\n",
    "point.edge('D', 'F')\n",
    "point.edge('B', 'C')\n",
    "point.edge('A', 'D')\n",
    "point.edge('FOR_A', 'A')\n",
    "point.edge('FOR_B', 'B')\n",
    "point.edge('FOR_C', 'B')\n",
    "point.edge('F', 'FOR_OUT')\n",
    "\n",
    "point\n",
    "\n",
    "#Die Musterlösung befindet sich in dem schrifftlichen Form (siehe PDF)"
   ]
  }
 ],
 "metadata": {
  "kernelspec": {
   "display_name": "Python 3",
   "language": "python",
   "name": "python3"
  },
  "language_info": {
   "codemirror_mode": {
    "name": "ipython",
    "version": 3
   },
   "file_extension": ".py",
   "mimetype": "text/x-python",
   "name": "python",
   "nbconvert_exporter": "python",
   "pygments_lexer": "ipython3",
   "version": "3.6.4"
  }
 },
 "nbformat": 4,
 "nbformat_minor": 2
}
