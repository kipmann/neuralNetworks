{
 "cells": [
  {
   "cell_type": "markdown",
   "metadata": {},
   "source": [
    "# ML-Fundamentals - Neural Networks - Exercise: Minimal Fully Connected Network for MNIST"
   ]
  },
  {
   "cell_type": "markdown",
   "metadata": {},
   "source": [
    "## Table of Contents\n",
    "* [Requirements](#Requirements) \n",
    "  * [Modules](#Python-Modules) \n",
    "  * [Data](#Data)\n",
    "* [Simple MNIST Network](#Simple-MNIST-Network)\n",
    "  * [Todo: Transparency](#Todo:-Transparency)\n",
    "  * [Todo: Comprehension](#Todo:-Comprehension)\n",
    "  * [Todo: Step towards a NN-Framework](#Todo:-Step-towards-a-NN-Framework)"
   ]
  },
  {
   "cell_type": "markdown",
   "metadata": {},
   "source": [
    "# Requirements\n"
   ]
  },
  {
   "cell_type": "markdown",
   "metadata": {},
   "source": [
    "## Python-Modules"
   ]
  },
  {
   "cell_type": "code",
   "execution_count": 1,
   "metadata": {},
   "outputs": [],
   "source": [
    "# third party\n",
    "import numpy as np\n",
    "import matplotlib.pyplot as plt\n",
    "\n",
    "# internal\n",
    "from deep_teaching_commons.data.fundamentals.mnist import Mnist"
   ]
  },
  {
   "cell_type": "markdown",
   "metadata": {},
   "source": [
    "## Data"
   ]
  },
  {
   "cell_type": "code",
   "execution_count": 2,
   "metadata": {},
   "outputs": [
    {
     "name": "stdout",
     "output_type": "stream",
     "text": [
      "auto download is active, attempting download\n",
      "mnist data directory already exists, download aborted\n"
     ]
    }
   ],
   "source": [
    "# create mnist loader from deep_teaching_commons\n",
    "mnist_loader = Mnist(data_dir='data')\n",
    "\n",
    "# load all data, labels are one-hot-encoded, images are flatten and pixel squashed between [0,1]\n",
    "train_images, train_labels, test_images, test_labels = mnist_loader.get_all_data(one_hot_enc=True, normalized=True)\n",
    "\n",
    "# shuffle training data\n",
    "shuffle_index = np.random.permutation(60000)\n",
    "train_images, train_labels = train_images[shuffle_index], train_labels[shuffle_index]"
   ]
  },
  {
   "cell_type": "markdown",
   "metadata": {},
   "source": [
    "# Simple MNIST Network\n",
    "The presented network is an adaptation of Michael Nielson's introductory example to neural networks. It is recommended, though not necessary, to read the first two chapters of his great online book ['Neural Networks and Deep Learning'](http://neuralnetworksanddeeplearning.com/) for a better understanding of the given example. Compared to the [original](https://github.com/mnielsen/neural-networks-and-deep-learning/blob/master/src/network.py) by Nielsen, the present variant was vectorized and the sigmoid activation function replaced by a rectified linear unit function (ReLU). As a result, the code is written much more compact, and the optimization of the model is much more efficient. "
   ]
  },
  {
   "cell_type": "markdown",
   "metadata": {},
   "source": [
    "## Todo: Transparency\n",
    "Your goal is to understand how the implementation works. Therefore your tasks are as follows:\n",
    "  - (2) Add comments to functions and lines of code. Follow the [Google-Pyhton](https://google.github.io/styleguide/pyguide.html) guidelines for comments.\n",
    "  - (2) Add a verbose argument (`boolean`) to the functions that adds meaningful `print` lines to the network, if it is `true`.\n",
    "  - (2) Add a variable `delta_hist` which store the delta value calculated on the output layer during each iteration of the function `grads(X,Y,weights)`. After the optimization process plot `delta_hist`."
   ]
  },
  {
   "cell_type": "code",
   "execution_count": 3,
   "metadata": {},
   "outputs": [
    {
     "name": "stdout",
     "output_type": "stream",
     "text": [
      "Count: 0 accuracy: 0.8848 delta: -0.23442528120315922\n",
      "Count: 1 accuracy: 0.91 delta: -0.18617901436326947\n",
      "Count: 2 accuracy: 0.9227 delta: -0.16093630213444532\n",
      "Count: 3 accuracy: 0.9319 delta: -0.14353426867854574\n",
      "Count: 4 accuracy: 0.936 delta: -0.13095795812831418\n",
      "Count: 5 accuracy: 0.9406 delta: -0.12154340918885968\n",
      "Count: 6 accuracy: 0.9444 delta: -0.11427591335654821\n",
      "Count: 7 accuracy: 0.9472 delta: -0.10841874190464806\n",
      "Count: 8 accuracy: 0.9494 delta: -0.10341947687745864\n",
      "Count: 9 accuracy: 0.951 delta: -0.09898172629337028\n",
      "Count: 10 accuracy: 0.9527 delta: -0.09577592516507116\n",
      "Count: 11 accuracy: 0.9549 delta: -0.09257111445172997\n",
      "Count: 12 accuracy: 0.9555 delta: -0.09013250767747963\n",
      "Count: 13 accuracy: 0.9565 delta: -0.08829966221637894\n",
      "Count: 14 accuracy: 0.9582 delta: -0.08616483355144436\n",
      "Count: 15 accuracy: 0.9602 delta: -0.08427421708889683\n",
      "Count: 16 accuracy: 0.9617 delta: -0.0818583820911255\n",
      "Count: 17 accuracy: 0.9626 delta: -0.07944561616401019\n",
      "Count: 18 accuracy: 0.9634 delta: -0.07748710528634548\n",
      "Count: 19 accuracy: 0.9638 delta: -0.07574618324015242\n",
      "Count: 20 accuracy: 0.9642 delta: -0.07425736367033056\n",
      "Count: 21 accuracy: 0.9649 delta: -0.07273570510118542\n",
      "Count: 22 accuracy: 0.9651 delta: -0.07119033246658406\n",
      "Count: 23 accuracy: 0.9654 delta: -0.06927767741929397\n",
      "Count: 24 accuracy: 0.9662 delta: -0.06766184623812413\n",
      "Count: 25 accuracy: 0.9668 delta: -0.06618198568343885\n"
     ]
    },
    {
     "data": {
      "text/plain": [
       "(-1, 0)"
      ]
     },
     "execution_count": 3,
     "metadata": {},
     "output_type": "execute_result"
    },
    {
     "data": {
      "image/png": "[encoded data removed]",
      "text/plain": [
       "<matplotlib.figure.Figure at 0x10e303e48>"
      ]
     },
     "metadata": {},
     "output_type": "display_data"
    }
   ],
   "source": [
    "delta_hist =[]\n",
    "\n",
    "\"\"\"\n",
    "Methode: feed_forward\n",
    "hier wird feed_forward (Vorsteuerung) durchgefuehrt.\n",
    "Da kommt den Abruf von Input-Werten und Gewichtungen.\n",
    "X - Batch von Eingaben\n",
    "weights - Gewichte\n",
    "Es wird retuniert: Batch berechneter Ausgaben\n",
    "\"\"\"\n",
    "def feed_forward(X, weights):\n",
    "    a = [X]\n",
    "    for w in weights:\n",
    "        a.append(np.maximum(a[-1].dot(w),0))\n",
    "    return a\n",
    "\n",
    "\n",
    "\"\"\"\n",
    "Methode: grads\n",
    "hier wird die Gradienten und Vorsteuerung (preforms) \n",
    "Mit Hilfe von Backpropagation berechnet.\n",
    "Diese Funktion berechnet die Gradianten und übergibt die\n",
    "neue Gewichte zusammen mit den Eingaben.\n",
    "X: Ein Batch von Inputs\n",
    "Y: Ein Batch von Labels\n",
    "weights: Gewichte zur Berechnung des neuen Gradienten\n",
    "Es wird retuniert: die neuen Gradienten\n",
    "\"\"\"\n",
    "def grads(X, Y, weights):\n",
    "\n",
    "    grads = np.empty_like(weights)\n",
    "    a = feed_forward(X, weights)\n",
    "    # https://brilliant.org/wiki/backpropagation/ or https://stats.stackexchange.com/questions/154879/a-list-of-cost-functions-used-in-neural-networks-alongside-applications\n",
    "    delta = a[-1] - Y\n",
    "    delta_hist.append(np.sum(delta*Y)/len(X))\n",
    "    grads[-1] = a[-2].T.dot(delta)\n",
    "    for i in range(len(a)-2, 0, -1):\n",
    "        delta = (a[i] > 0) * delta.dot(weights[i].T)\n",
    "        grads[i-1] = a[i-1].T.dot(delta)\n",
    "    return grads / len(X)\n",
    "\n",
    "trX, trY, teX, teY = train_images, train_labels, test_images, test_labels\n",
    "weights = [np.random.randn(*w) * 0.1 for w in [(784, 200), (200,100), (100, 10)]]\n",
    "num_epochs, batch_size, learn_rate = 26, 340, 0.1\n",
    "verbose = True\n",
    "\n",
    "for i in range(num_epochs):\n",
    "    for j in range(0, len(trX), batch_size):\n",
    "        X, Y = trX[j:j+batch_size], trY[j:j+batch_size]\n",
    "        weights -= learn_rate * grads(X, Y, weights)\n",
    "    prediction_test = np.argmax(feed_forward(teX, weights)[-1], axis=1)    \n",
    "    if verbose: \n",
    "        print ('Count:', i, '; accuracy:', np.mean(prediction_test == np.argmax(teY, axis=1)), '; delta:', delta_hist[-1])\n",
    "        \n",
    "plt.plot(delta_hist)\n",
    "plt.ylim(ymax = 0, ymin= -1)"
   ]
  },
  {
   "cell_type": "markdown",
   "metadata": {},
   "source": [
    "## Todo: Comprehension\n",
    "Hopefully, this implementation of a neural network is clear now. As a check answer the following questions (a few sentences, no novels):\n",
    "  - (2) Which cost function is used, what is its derivation and how is it implemented?\n",
    "  Answer: softmax function\n",
    "  - (2) Why are the boundaries of your plot between [-1,0], why it is so noisy, how do you can reduce the noice and what is the difference to a usual plot of a loss function?\n",
    "  Answer: Für die Reduzierung des Noises muss man die Größe des Batches anpassen, und zwar größer machen. Loss Wert bleibt positive, deswegen kann der Plot zwischen 0 und 1 nicht sein.\n",
    "  - (2) How does the network implement the backpropagation algorithm?\n",
    "  Answer: Bei der Backpropagation wird die Kostenfunktion verwendet, um den Fehler unserer output layer zu berechnen. Wir werden die Steigung der Kostenfunktionen in Bezug auf die zweite Gleichung angeben, aber wenn man diese Ergebnisse selbst beweisen möchte, wird die Verwendung der ersten Gleichung empfohlen, da es einfacher ist, damit zu arbeiten."
   ]
  },
  {
   "cell_type": "markdown",
   "metadata": {},
   "source": [
    "## Todo: Step towards a NN-Framework\n",
    "The presented implementation is compact and efficient, but hard to modify or extend. However, a modular design is crucial if you want to experiment with a neural network to understand the influence of its components. Now you make the first changes towards your own 'toy-neural-network-framework', which you should expand in the progress of exercise 03. \n",
    "\n",
    "(5) Rework the implementation from above given the classes and methods below. Again, you _do not_ have to re-engineer the whole neural network at this step. Rework the code to match the given specification and do necessary modifications only. For your understanding, you can change the names of the variables to more fitting ones."
   ]
  },
  {
   "cell_type": "code",
   "execution_count": 12,
   "metadata": {},
   "outputs": [
    {
     "name": "stdout",
     "output_type": "stream",
     "text": [
      "Count: 0 ; accuracy: 0.8838 ; delta: -0.23541359783659713\n",
      "Count: 1 ; accuracy: 0.9121 ; delta: -0.18503312484430684\n",
      "Count: 2 ; accuracy: 0.9235 ; delta: -0.16376980169683378\n",
      "Count: 3 ; accuracy: 0.9302 ; delta: -0.15094095178135253\n",
      "Count: 4 ; accuracy: 0.9355 ; delta: -0.1421669224794075\n",
      "Count: 5 ; accuracy: 0.9387 ; delta: -0.13389521354190168\n",
      "Count: 6 ; accuracy: 0.9425 ; delta: -0.12618025932607277\n",
      "Count: 7 ; accuracy: 0.9453 ; delta: -0.11903168078154351\n",
      "Count: 8 ; accuracy: 0.9471 ; delta: -0.11328852604435098\n",
      "Count: 9 ; accuracy: 0.9493 ; delta: -0.10810392577504666\n",
      "Count: 10 ; accuracy: 0.952 ; delta: -0.10328305013955172\n",
      "Count: 11 ; accuracy: 0.9535 ; delta: -0.09876837205235024\n",
      "Count: 12 ; accuracy: 0.9542 ; delta: -0.09479163555737433\n",
      "Count: 13 ; accuracy: 0.9556 ; delta: -0.09094846074242828\n",
      "Count: 14 ; accuracy: 0.9566 ; delta: -0.08748362681440633\n",
      "Count: 15 ; accuracy: 0.9574 ; delta: -0.08392038108424876\n",
      "Count: 16 ; accuracy: 0.9583 ; delta: -0.08066511028416629\n",
      "Count: 17 ; accuracy: 0.9594 ; delta: -0.07748366068835315\n",
      "Count: 18 ; accuracy: 0.9602 ; delta: -0.07476031111261394\n",
      "Count: 19 ; accuracy: 0.9608 ; delta: -0.07209430365334717\n",
      "Count: 20 ; accuracy: 0.9613 ; delta: -0.06943090431970249\n",
      "Count: 21 ; accuracy: 0.962 ; delta: -0.06736774634808988\n",
      "Count: 22 ; accuracy: 0.9628 ; delta: -0.06538758825084545\n",
      "Count: 23 ; accuracy: 0.9636 ; delta: -0.0632876588986063\n",
      "Count: 24 ; accuracy: 0.9641 ; delta: -0.061272397939332944\n",
      "Count: 25 ; accuracy: 0.9647 ; delta: -0.05967569668494436\n"
     ]
    },
    {
     "data": {
      "text/plain": [
       "[<matplotlib.lines.Line2D at 0x10e977ef0>]"
      ]
     },
     "execution_count": 12,
     "metadata": {},
     "output_type": "execute_result"
    },
    {
     "data": {
      "image/png": "[encoded data removed]",
      "text/plain": [
       "<matplotlib.figure.Figure at 0x10dadf128>"
      ]
     },
     "metadata": {},
     "output_type": "display_data"
    }
   ],
   "source": [
    "class FullyConnectedNetwork:\n",
    "    def __init__(self, layers):\n",
    "        self.layers = layers\n",
    "        self.weights = [0.1 * np.random.randn(*weight) for weight in self.layers]\n",
    "        self.delta_hist = []\n",
    "        \n",
    "    def forward(self, data):\n",
    "        dataVar = [data]\n",
    "        for weight in self.weights:\n",
    "            dataVar.append(np.maximum(dataVar[-1].dot(weight), 0))       \n",
    "        return dataVar\n",
    "\n",
    "    def backward(self, X, Y):\n",
    "        grads = np.empty_like(self.weights)\n",
    "        selfForwardX = self.forward(X)\n",
    "        delta = selfForwardX[-1] - Y\n",
    "        self.delta_hist.append(np.sum(delta * Y) / len(X))\n",
    "        grads[-1] = selfForwardX[-2].T.dot(delta)\n",
    "        \n",
    "        for i in range(len(selfForwardX) - 2, 0, -1):\n",
    "            delta = (selfForwardX[i] > 0) * delta.dot(self.weights[i].T)\n",
    "            grads[i - 1] = selfForwardX[i - 1].T.dot(delta)\n",
    "        return grads / len(X)\n",
    "\n",
    "    def predict(self, data):\n",
    "        return self.forward(data)\n",
    "            \n",
    "class Optimizer:\n",
    "    def __init__(self, network, train_data, train_labels, test_data=None, test_labels=None, epochs=100, batch_size=20, learning_rate=0.01):\n",
    "        self.network = network\n",
    "        self.train_data = train_data\n",
    "        self.train_labels = train_labels\n",
    "        self.test_data = test_data\n",
    "        self.test_labels = test_labels\n",
    "        self.epochs = epochs\n",
    "        self.batch_size = batch_size\n",
    "        self.learning_rate = learning_rate\n",
    "        \n",
    "    def sgd(self, verbose = True):        \n",
    "        for i in range(self.epochs):\n",
    "            for j in range(0, len(self.train_data), self.batch_size):\n",
    "                X, Y = self.train_data[j:j + self.batch_size], self.train_labels[j:j + self.batch_size]\n",
    "                self.network.weights = self.network.weights - (self.network.backward(X, Y) * self.learning_rate)\n",
    "\n",
    "            prediction_test = np.argmax(self.network.predict(self.test_data)[-1], axis=1)\n",
    "            if verbose: \n",
    "                print ('Count:', i, '; accuracy:', np.mean(prediction_test == np.argmax(self.test_labels, axis=1)), '; delta:', self.network.delta_hist[-1])\n",
    "    \n",
    "# Following code should run:    \n",
    "mnist_NN = FullyConnectedNetwork([(784, 200),(200,100),(100, 10)]) \n",
    "epochs, batch_size, learning_rate = 26, 340, 0.1\n",
    "Optimizer(mnist_NN, train_images, train_labels, test_images, test_labels, epochs, batch_size, learning_rate).sgd(True)\n",
    "\n",
    "plt.plot(mnist_NN.delta_hist)"
   ]
  },
  {
   "cell_type": "code",
   "execution_count": null,
   "metadata": {},
   "outputs": [],
   "source": []
  }
 ],
 "metadata": {
  "kernelspec": {
   "display_name": "Python 3",
   "language": "python",
   "name": "python3"
  },
  "language_info": {
   "codemirror_mode": {
    "name": "ipython",
    "version": 3
   },
   "file_extension": ".py",
   "mimetype": "text/x-python",
   "name": "python",
   "nbconvert_exporter": "python",
   "pygments_lexer": "ipython3",
   "version": "3.6.4"
  }
 },
 "nbformat": 4,
 "nbformat_minor": 2
}
